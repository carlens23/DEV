{
 "cells": [
  {
   "cell_type": "code",
   "execution_count": 40,
   "id": "8f6c5cd8",
   "metadata": {},
   "outputs": [],
   "source": [
    "# Importando a biblioteca\n",
    "import pyautogui as py\n",
    "import time\n",
    "# Dando alerta ao usuario\n",
    "py.alert(\"Não mecha mais em nada do computador, para não interferir no resultado do codigo\")\n",
    "# Tempo de execcução\n",
    "py.PAUSE = 0.5\n",
    "# Apertando o botão do windows\n",
    "py.press(\"win\")\n",
    "# Pesquisando pelo navegador\n",
    "py.write(\"firefox\")\n",
    "py.hotkey(\"ctrl\", \"1\")\n",
    "# Dando enter\n",
    "py.press(\"enter\")\n",
    "# tempo de execução\n",
    "time.sleep(1)\n",
    "# url no firefox\n",
    "py.write(\"https://drive.google.com/drive/u/0/my-drive\")\n",
    "py.press(\"enter\")\n",
    "py.moveTo(1158, 71)\n",
    "py.mouseDown()\n",
    "\n",
    "py.hotkey(\"winright\", \"d\")"
   ]
  },
  {
   "cell_type": "code",
   "execution_count": 51,
   "id": "8453beaa",
   "metadata": {},
   "outputs": [
    {
     "data": {
      "text/plain": [
       "Point(x=1158, y=71)"
      ]
     },
     "execution_count": 51,
     "metadata": {},
     "output_type": "execute_result"
    }
   ],
   "source": [
    "py.position()"
   ]
  },
  {
   "cell_type": "code",
   "execution_count": null,
   "id": "4c46c2da",
   "metadata": {},
   "outputs": [],
   "source": []
  },
  {
   "cell_type": "code",
   "execution_count": null,
   "id": "230742bb",
   "metadata": {},
   "outputs": [],
   "source": []
  },
  {
   "cell_type": "code",
   "execution_count": null,
   "id": "aceb3ad3",
   "metadata": {},
   "outputs": [],
   "source": []
  }
 ],
 "metadata": {
  "kernelspec": {
   "display_name": "Python 3 (ipykernel)",
   "language": "python",
   "name": "python3"
  },
  "language_info": {
   "codemirror_mode": {
    "name": "ipython",
    "version": 3
   },
   "file_extension": ".py",
   "mimetype": "text/x-python",
   "name": "python",
   "nbconvert_exporter": "python",
   "pygments_lexer": "ipython3",
   "version": "3.10.12"
  }
 },
 "nbformat": 4,
 "nbformat_minor": 5
}
