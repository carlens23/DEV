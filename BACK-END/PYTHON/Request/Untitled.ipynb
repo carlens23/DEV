{
 "cells": [
  {
   "cell_type": "code",
   "execution_count": 2,
   "id": "a87eab0b",
   "metadata": {},
   "outputs": [
    {
     "name": "stdout",
     "output_type": "stream",
     "text": [
      "<Response [200]>\n",
      "{'USDBRL': {'code': 'USD', 'codein': 'BRL', 'name': 'Dólar Americano/Real Brasileiro', 'high': '4.9756', 'low': '4.9075', 'varBid': '0.0541', 'pctChange': '1.1', 'bid': '4.9699', 'ask': '4.9709', 'timestamp': '1706909401', 'create_date': '2024-02-02 18:30:01'}, 'EURBRL': {'code': 'EUR', 'codein': 'BRL', 'name': 'Euro/Real Brasileiro', 'high': '5.3451', 'low': '5.3451', 'varBid': '0', 'pctChange': '0', 'bid': '5.3201', 'ask': '5.3701', 'timestamp': '1707086309', 'create_date': '2024-02-04 19:38:29'}, 'BTCBRL': {'code': 'BTC', 'codein': 'BRL', 'name': 'Bitcoin/Real Brasileiro', 'high': '215362', 'low': '213000', 'varBid': '-1311', 'pctChange': '-0.61', 'bid': '213172', 'ask': '213272', 'timestamp': '1707086310', 'create_date': '2024-02-04 19:38:30'}}\n"
     ]
    }
   ],
   "source": [
    "# Método GET\n",
    "import requests\n",
    "\n",
    "url = requests.get(\"https://economia.awesomeapi.com.br/last/USD-BRL,EUR-BRL,BTC-BRL\")\n",
    "print(url)\n",
    "print(url.json())"
   ]
  },
  {
   "cell_type": "code",
   "execution_count": 12,
   "id": "2adb7fdd",
   "metadata": {},
   "outputs": [
    {
     "name": "stdout",
     "output_type": "stream",
     "text": [
      "<Response [200]>\n",
      "{'INFOS': {'BISAVÔ': {'AVÓ': {'MÃO': {'PAI': {'EU': ''}}}}}, 'TEST': {'1': {'Nome': 'Carlens Oslin'}, 'id': 1}}\n"
     ]
    }
   ],
   "source": [
    "# Método GET\n",
    "import requests\n",
    "\n",
    "url = requests.get(\"https://request--project-default-rtdb.firebaseio.com/.json\")\n",
    "print(url)\n",
    "print(url.json())"
   ]
  },
  {
   "cell_type": "code",
   "execution_count": 11,
   "id": "004310cd",
   "metadata": {},
   "outputs": [
    {
     "name": "stdout",
     "output_type": "stream",
     "text": [
      "<Response [400]>\n",
      "{'error': \"Invalid data; couldn't parse JSON object, array, or value.\"}\n"
     ]
    }
   ],
   "source": [
    "# Método POST\n",
    "import requests\n",
    "\n",
    "infos = ('{\"Nome do avó\":\"Carlens\"}')\n",
    "url = requests.post(\"https://request--project-default-rtdb.firebaseio.com/.json\", data=infos)\n",
    "print(url)\n",
    "print(url.json())"
   ]
  },
  {
   "cell_type": "code",
   "execution_count": null,
   "id": "19093910",
   "metadata": {},
   "outputs": [],
   "source": []
  },
  {
   "cell_type": "code",
   "execution_count": null,
   "id": "0fb67634",
   "metadata": {},
   "outputs": [],
   "source": []
  }
 ],
 "metadata": {
  "kernelspec": {
   "display_name": "Python 3 (ipykernel)",
   "language": "python",
   "name": "python3"
  },
  "language_info": {
   "codemirror_mode": {
    "name": "ipython",
    "version": 3
   },
   "file_extension": ".py",
   "mimetype": "text/x-python",
   "name": "python",
   "nbconvert_exporter": "python",
   "pygments_lexer": "ipython3",
   "version": "3.10.12"
  }
 },
 "nbformat": 4,
 "nbformat_minor": 5
}
